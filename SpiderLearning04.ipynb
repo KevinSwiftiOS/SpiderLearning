{
 "cells": [
  {
   "cell_type": "code",
   "execution_count": 15,
   "metadata": {},
   "outputs": [],
   "source": [
    "#下载文件\n",
    "import os;\n",
    "from urllib.request import urlretrieve\n",
    "#os.makedirs(\"./img/\",exist_ok = True);\n",
    "Image_Url = \"https://morvanzhou.github.io/static/img/description/learning_step_flowchart.png\";\n",
    "#使用urlretrieve 进行下载\n",
    "urlretrieve(Image_Url,'/Users/hcnucai/Documents/image1.png');"
   ]
  },
  {
   "cell_type": "code",
   "execution_count": 16,
   "metadata": {},
   "outputs": [],
   "source": [
    "#高效率的下载大文件 下一点 保存一点  这就是一个 chunk 一个 chunk 的下载\n",
    "import requests;\n",
    "r = requests.get(Image_Url);\n",
    "with open(\"/Users/hcnucai/Documents/image2.png\",\"wb\") as f:\n",
    "    f.write(r.content);"
   ]
  },
  {
   "cell_type": "code",
   "execution_count": 18,
   "metadata": {},
   "outputs": [],
   "source": [
    "r = requests.get(Image_Url, stream=True)    # stream loading\n",
    "\n",
    "with open('/Users/hcnucai/Documents/image3.png', 'wb') as f:\n",
    "    for chunk in r.iter_content(chunk_size=32):\n",
    "        f.write(chunk)"
   ]
  },
  {
   "cell_type": "code",
   "execution_count": null,
   "metadata": {},
   "outputs": [],
   "source": []
  }
 ],
 "metadata": {
  "kernelspec": {
   "display_name": "Python 3",
   "language": "python",
   "name": "python3"
  },
  "language_info": {
   "codemirror_mode": {
    "name": "ipython",
    "version": 3
   },
   "file_extension": ".py",
   "mimetype": "text/x-python",
   "name": "python",
   "nbconvert_exporter": "python",
   "pygments_lexer": "ipython3",
   "version": "3.6.5"
  }
 },
 "nbformat": 4,
 "nbformat_minor": 2
}
