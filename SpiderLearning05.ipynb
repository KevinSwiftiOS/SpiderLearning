{
 "cells": [
  {
   "cell_type": "code",
   "execution_count": 3,
   "metadata": {},
   "outputs": [
    {
     "name": "stdout",
     "output_type": "stream",
     "text": [
      "Saved 20180605040431937.png\n",
      "Saved 20180530111226744.jpg\n",
      "Saved 20180527030628812.jpg\n",
      "Saved 20180524015744733.jpg\n",
      "Saved 20180522105730489.jpg\n",
      "Saved 20180518035034740.jpg\n"
     ]
    }
   ],
   "source": [
    "from bs4 import BeautifulSoup\n",
    "import requests;\n",
    "URL = \"http://www.nationalgeographic.com.cn/animals/\"\n",
    "html = requests.get(URL).text;\n",
    "soup = BeautifulSoup(html, features = \"lxml\");\n",
    "img_url = soup.find_all('ul',{\"class\":\"img_list\"});\n",
    "#找到所有的img 随后提取src属性\n",
    "for ul in img_url:\n",
    "    imgs = ul.find_all(\"img\");\n",
    "    for img in imgs:\n",
    "        url = img['src'];\n",
    "        r = requests.get(url,stream = True);\n",
    "        img_name = url.split('/')[-1];\n",
    "        with open(\"/Users/hcnucai/Documents/images/%s\" %img_name,'wb') as f:\n",
    "            for chunk in r.iter_content(chunk_size = 128):\n",
    "                f.write(chunk);\n",
    "            print(\"Saved %s\" %img_name);"
   ]
  },
  {
   "cell_type": "code",
   "execution_count": null,
   "metadata": {},
   "outputs": [],
   "source": []
  }
 ],
 "metadata": {
  "kernelspec": {
   "display_name": "Python 3",
   "language": "python",
   "name": "python3"
  },
  "language_info": {
   "codemirror_mode": {
    "name": "ipython",
    "version": 3
   },
   "file_extension": ".py",
   "mimetype": "text/x-python",
   "name": "python",
   "nbconvert_exporter": "python",
   "pygments_lexer": "ipython3",
   "version": "3.6.5"
  }
 },
 "nbformat": 4,
 "nbformat_minor": 2
}
