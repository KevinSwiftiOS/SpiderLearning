{
 "cells": [
  {
   "cell_type": "code",
   "execution_count": 6,
   "metadata": {},
   "outputs": [],
   "source": [
    "#多线程爬取信息\n",
    "import multiprocessing as mp;\n",
    "import time;\n",
    "from urllib.request import urlopen,urljoin;\n",
    "from bs4 import BeautifulSoup;\n",
    "import re;\n",
    "base_url = \"https://morvanzhou.github.io/\";\n",
    "#定义两个功能 一个是用来进行爬取的crawl 一个是用来解析的parse\n",
    "def crawl(url):\n",
    "    response = urlopen(url);\n",
    "    return response.read().decode();\n",
    "def parse(html):\n",
    "    soup = BeautifulSoup(html,'lxml');\n",
    "    urls = soup.find_all('a',{\"href\":re.compile('^/.+?/$')});\n",
    "    title = soup.find('h1').get_text().strip();\n",
    "    #去重\n",
    "    page_urls = set([urljoin(base_url,url['href']) for url in urls]);\n",
    "    url = soup.find('meta',{'property':'og:url'})['content'];\n",
    "    return title,page_urls,url;\n",
    "#定义两个set 用来搜集爬过的网页和没有爬过的\n",
    "unseen = set([base_url,]);\n",
    "seen = set();\n"
   ]
  },
  {
   "cell_type": "code",
   "execution_count": 7,
   "metadata": {},
   "outputs": [],
   "source": [
    "#测试单进程的进行爬虫\n",
    "if base_url != \"https://morvanzhou.github.io/\":\n",
    "    restricted_crawl = True\n",
    "else:\n",
    "    restricted_crawl = False\n",
    "while len(unseen) != 0:\n",
    "    if restricted_crawl and len(seen) >= 20:\n",
    "        break;\n",
    "    htmls = [crawl(url) for url in unseen];\n",
    "    results = [parse(html) for html in htmls];\n",
    "    seen.update(unseen);\n",
    "    unseen.clear();\n",
    "    for title,page_urls,url in results:\n",
    "        unseen.update(page_urls - seen);\n",
    "        "
   ]
  },
  {
   "cell_type": "code",
   "execution_count": 8,
   "metadata": {},
   "outputs": [],
   "source": [
    "#测试分布式的进行爬虫\n",
    "pool = mp.Pool(4);\n",
    "while len(unseen) != 0:\n",
    "    crawl_jobs = [pool.apply_async(crawl,args = (url,)) for url in unseen];\n",
    "    htmls = [j.get() for j in crawl_jobs];\n",
    "    parse_jobs = [pool.apply_async(parse,args = (html,)) for html in htmls];\n",
    "    results = [j.get() for j in parse_jobs];\n",
    "    "
   ]
  },
  {
   "cell_type": "code",
   "execution_count": null,
   "metadata": {},
   "outputs": [],
   "source": []
  }
 ],
 "metadata": {
  "kernelspec": {
   "display_name": "Python 3",
   "language": "python",
   "name": "python3"
  },
  "language_info": {
   "codemirror_mode": {
    "name": "ipython",
    "version": 3
   },
   "file_extension": ".py",
   "mimetype": "text/x-python",
   "name": "python",
   "nbconvert_exporter": "python",
   "pygments_lexer": "ipython3",
   "version": "3.6.5"
  }
 },
 "nbformat": 4,
 "nbformat_minor": 2
}
